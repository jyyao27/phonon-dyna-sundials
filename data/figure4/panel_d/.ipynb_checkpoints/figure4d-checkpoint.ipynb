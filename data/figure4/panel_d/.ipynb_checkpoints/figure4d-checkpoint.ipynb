{
 "cells": [
  {
   "cell_type": "code",
   "execution_count": 5,
   "id": "f2e5e352",
   "metadata": {},
   "outputs": [
    {
     "ename": "SyntaxError",
     "evalue": "invalid syntax. Perhaps you forgot a comma? (2084001469.py, line 14)",
     "output_type": "error",
     "traceback": [
      "\u001b[0;36m  Cell \u001b[0;32mIn[5], line 14\u001b[0;36m\u001b[0m\n\u001b[0;31m    grid_x, grid_y = np.mgrid[-qedge:qedge:fgrid j, -qedge:qedge:fgrid j]\u001b[0m\n\u001b[0m                                           ^\u001b[0m\n\u001b[0;31mSyntaxError\u001b[0m\u001b[0;31m:\u001b[0m invalid syntax. Perhaps you forgot a comma?\n"
     ]
    }
   ],
   "source": [
    "import numpy as np\n",
    "import matplotlib.pyplot as plt\n",
    "from matplotlib.colors import CenteredNorm\n",
    "from scipy.interpolate import griddata\n",
    "\n",
    "\n",
    "### load data\n",
    "qr = np.loadtxt('qrange.dat') # range of q\n",
    "qedge = np.max(qr) # the edge of qr\n",
    "diq = np.loadtxt('diffuse_scattering_signal.dat') # change in signal at 1 and 20 ps\n",
    "qx, qy = np.loadtxt('qplot.dat') # q in Cartesian coordinates \n",
    "# interpolate picture on a fine grid\n",
    "grid_x, grid_y = np.mgrid[-qedge:qedge:300j, -qedge:qedge:300j] \n",
    "\n",
    "### plot\n",
    "norm = CenteredNorm(vcenter=0, halfrange=0.05)\n",
    "for i in range(2):\n",
    "    grid_f = griddata((qx, qy))"
   ]
  },
  {
   "cell_type": "code",
   "execution_count": null,
   "id": "2608aaaf",
   "metadata": {},
   "outputs": [],
   "source": []
  }
 ],
 "metadata": {
  "kernelspec": {
   "display_name": "Python 3 (ipykernel)",
   "language": "python",
   "name": "python3"
  },
  "language_info": {
   "codemirror_mode": {
    "name": "ipython",
    "version": 3
   },
   "file_extension": ".py",
   "mimetype": "text/x-python",
   "name": "python",
   "nbconvert_exporter": "python",
   "pygments_lexer": "ipython3",
   "version": "3.11.4"
  }
 },
 "nbformat": 4,
 "nbformat_minor": 5
}
